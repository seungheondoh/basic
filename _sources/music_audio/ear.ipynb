{
  "cells": [
    {
      "cell_type": "markdown",
      "metadata": {},
      "source": [
        "# Auditory Pathway (청각경로)\n",
        "\n",
        "\n",
        "본 포스팅은 문화기술대학원 이경면 교수님의 [GCT731 Cognitive Science of Music](https://hss.kaist.ac.kr/sub02/info.php?idx=76)과 [Auditoryneuroscience](https://auditoryneuroscience.com/acoustics)를 참고했음을 밝힙니다.\n",
        "\n",
        "## Ear (Outer ear → Middle ear → Inner ear)\n",
        "일반적인 귀의 구조는 Auditory pathway를 기준으로 Outer ear, Middle ear, Inner ear로 나누어 지게 되며, 각각의 단계별로 다른 역할을 하게 됩니다.\n",
        "\n",
        "<img src='../images/ear.png' width=50%>\n",
        "\n",
        "### Outer ear\n",
        "Outer ear를 구성하는 요소는 Pinna(귓바퀴)와 Auditory Canal(외의도)입니다. Pinna(귓바퀴) - 귓바퀴는 일반적으로 Sound reflection과 Sound localization의 기능을 하게 됩니다. 추가적으로 귀를 보호하는 Protection의 기능 역시 하게 됩니다. 이러한 소리의 위치를 찾게 되는 가장 주요한 요인은 바로 Asymeetrical pinna입니다. 귓바퀴의 모양을 보신다면 귀의 주름이 비 대칭적인 것을 알 수 있습니다. 이는 앞, 뒤의 소리를 구별하고 위 아래의 소리를 구별하기 위해서 설계된 것입니다.\n",
        "\n",
        "### Middle ear(중이)\n",
        "Middle ear를 구성하는 요소는 크게 The tympanic membrane(고막) 과 Ossicles(오소골)이 있습니다. 소리는 Audiotory canal을 지나서 Tympanic membrane(고막)을 지나서 Ossicles에 도착하고 그리고 Oval window(난원창)을 통해 Cochlea(달팽이관) 로 전달됩니다. Ossicles(오소골)은 또 Malleus(추골), Incus(침골), Stapes(추골)로 구성되어 있습니다. 상당히 새로운 용어들이 등장하면서 어렵게 느껴지게 됩니다.\n",
        "\n",
        "<img src='../images/middlear.png'>\n",
        "\n",
        "이럴때는 용어가 아니라 기능에 집중해 봅시다. 중이의 기능은 일반적으로 Sound force control입니다. 즉 소리의 크기를 조절해주는 것이죠. 일반적으로는 Tympanic membrane(고막)과 Oval Window(난원창)사이의 pressure의 차이는 20배정도 납니다. 이 말은 무엇이냐면 Ossicles(오소골)에서 소리의 증폭기능을 해준다는 것이지요. 그 이유는 같은 압력이 들어오게 되지만 (유체와 힘이 고정), Tympanic membrane(고막)과 Oval Window(난원창)사이의 표면 면적은 차이가 발생합니다.이것이 소리의 증폭을 만들어 내게 됩니다. 또한 소리의 감소 기능도 하게 됩니다. Ossicles에는 Stapdius muscle이라는 근육이 존재하게 됩니다. 너무 큰 소리가 들어온다면 중이에서는 귀의 손상을 막아주기 위해 이 두개의 근육이 수축하면서 Ossicles에 밀착하게 됩니다. 이는 진동량을 줄여주는 효과가 있습니다. 이를 일반적으로 Attenuation reflex 라고 부릅니다. "
      ]
    },
    {
      "cell_type": "markdown",
      "metadata": {},
      "source": [
        "\n",
        "### Inner ear (내이)\n",
        "이제 드디어 가장 중요한 내이의 영역에 들어오게 되었습니다. 내이는 우리가 가장 중요하다고 언급하는 Cochlea(달팽이관)이 있습니다. 일반적으로 Cochlea(달팽이관)이 청각 시스템에서 매우 중요한 역할을 하는 이유는 Mechanical vibration을 Electrical signal로 변화시키는데 있습니다. 이제 소리의 파동이 전기적인 신호가 되서 뉴런에게 전달되는 영역에 오게 된 것이죠. 간단하게 내이의 구성요소를 본다면, 우선 Oval window 를 통해서 오는 진동들은 아래 가운데 선으로 존재하는 Basilar membrane(기저막)으로 도착합니다. 이 Basilar memberane은 진동을 전기적 신호로 바꾸게 되는 Organ of Corti(코르티 기관)을 받치고 있습니다. Organ of Corti에서 Hair cell들의 Depolarization 과정을 통해서 전기적 신호가 나오게 됩니다. 이 과정에서 재밌는 세부 요소들을 찾아보도록 합시다.\n",
        "\n",
        "<img src='../images/innerear.png'>\n",
        "\n",
        "## Basilar membrane (기저막)\n",
        "기저막은 주변이 endolymph(임프액)으로 둘러 싸여 있고 소리가 들어오면, 이 유체의 움직임은 Basilar membrane을 구브리게 됩니다. 이때 Basilar membrane은 각각 위치 영역이 특정 frequency에 맵핑되어 있는데, 일반적으로 High-frequency sound에 맵핑된것을 base, 그리고 Low-frequency sound에 맵핑된 것을 apex라고 부릅니다. 이러한 것을 place code라고 하게 됩니다.  Apex는 Base에 비해 좀더 넓고 flexible하다는 특징이 있고, Base는 좁고 딱딱합니다.  \n",
        "\n",
        "<img src='../images/bm.png'>\n",
        "\n",
        "## Organ of Corti (코르티 기관)\n",
        "Organ of Corti의 가장 큰 특징은 hair cells이 있다는 점입니다.(receptor cells). 이 Hair cell은 뉴런과 연결되어 있어서, mechanical signal to electrical signal로 바꾸어 줍니다.\n",
        "\n",
        "- Outer hair cell : 3 line\n",
        "뇌에서 귀로 신호를 보내주는 역할을 합니다. attention 을 도와주는 역할을 합니다.\n",
        "- Inner hair cell : 1 line\n",
        "뇌의 신호로 보내는 역할을 합니다.\n",
        "\n",
        "<img src='../images/ot.png'>\n",
        "\n",
        "진동이 들어오면, hair cell은 band(fold) 됩니다. 이 band는 electrical signal을 만듭니다. 전기 신호를 만드는 과정은 바로 Deploarization 입니다. \n",
        "\n",
        "<img src='../images/band.png'>\n",
        "\n",
        "## Depolarization of a hair cell\n",
        "포타시움의 농도로 인해서, 펌프가 열리면서 극성을 바뀌게 되고 칼슘채널이 들어와서, transmitter를 방출시킵니다. Spiral ganglion neurons에 붙으면 전기 신호가 발생하게 됩니다. 전기신호가 전달되는 Spiral ganglion neurons들은 95%가 inner hair cell에 붙어있습니다. 그리고 5%가 outer hair cell에 붙어있게 됩니다. \n",
        "\n",
        "Potassium channels open → entry of potassium → Depolarizes the hair cell →  Opens voltage-gated Ca^{2+} channels → Release of transmitter → Diffuse to the postsynaptic spiral ganglion neurons\n",
        "\n",
        "<img src='../images/deplor.png'>\n",
        "\n",
        "## Amplification by outer hair cells.\n",
        "outer hair cell에서는 뇌에서의 signal을 moter protein을 통해서 받게 됩니다. 이 moter proteins은 outer hair cell에 존재하는데, potassium이 hair cell안에 들어가게 된다면, moter proteins이 activate 됩니다. 이 현상들을 기반으로 우리는 2가지 소리의 경로를 알 수 있습니다.\n",
        "\n",
        "- Bottom up pathway : 소리가 귀에서 뇌로 올라간다.\n",
        "- Top down pathway : 뇌에서 귀로 내려올 수도 있다. attention을 하면 Cochlea 까지 내려간다.\n",
        "\n",
        "<img src='../images/haircell.png'>\n",
        "\n",
        "이번 포스팅에서는 인간의 청각신경을 통해서 소리를 인식하는 과정에 대해서 알아봤습니다. 너무 어려운 용어가 많아서 쉽게 쓰지 못한점에 사과드립니다. 내용을 정리하면 소리는 외이-중이-내이를 거쳐서 들어오며, 내이의 기저막에서 특정 주파수를 인식한 후, 이것을 코르티 기관에서 Depolarization을 통해서 뉴런에 신호를 보내게 된다고 생각하시면 될 것 같습니다. 이 때, 재밌는 점은 Bottom up 뿐만 아니라 top down 구조도 존재한다는 점입니다. 다음 시간에는 우리가 pitch를 인식하는 구조에 대해서 좀더 자세히 알아보겠습니다."
      ]
    },
    {
      "cell_type": "markdown",
      "metadata": {},
      "source": []
    }
  ],
  "metadata": {
    "accelerator": "GPU",
    "colab": {
      "gpuType": "T4",
      "provenance": []
    },
    "kernelspec": {
      "display_name": "Python 3",
      "name": "python3"
    },
    "language_info": {
      "codemirror_mode": {
        "name": "ipython",
        "version": 3
      },
      "file_extension": ".py",
      "mimetype": "text/x-python",
      "name": "python",
      "nbconvert_exporter": "python",
      "pygments_lexer": "ipython3",
      "version": "3.11.7"
    }
  },
  "nbformat": 4,
  "nbformat_minor": 0
}
