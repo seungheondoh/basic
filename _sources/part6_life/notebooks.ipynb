{
 "cells": [
  {
   "attachments": {},
   "cell_type": "markdown",
   "metadata": {},
   "source": [
    "# Feedback\n",
    "\n",
    "이글은 피드백에 대한 글이다. 나는 학부시절부터 피드백에 쉽게 노출되곤 했는데, `배움`을 위해서는 필수적인 과정이였던걸로 기억한다.\n",
    "피드백은 나에게 주로 교수님이나 선배, 혹은 어떤 분야의 시니어에게 나의 작업물을 보여주고, 평가를 받는 것이였다.\n",
    "\n",
    "피드백에 대해서 논할때, 우선 (올바른) 피드백이 형성되었는지 부터 생각해볼 필요가 있다. 만약에 피드백과 일방적인 비난을 구별하지 못하면 내가 너무 슬퍼지니까.\n",
    "보통 쉽게 체크해볼 사항은 다음과 같다\n",
    "\n",
    "---------\n",
    "\n",
    "1. 피드백을 주는 사람이 나와 함께 책임을 지는 사람인가?\n",
    "2. 피드백을 주는 사람이 나에게 시간과 관심을 가지고 있는가? \n",
    "3. 피드백과 연관 된 Task가 나에게 중요한 것인가?\n",
    "4. 피드백을 주는 사람과 내가 함께 공통된 목표를 공유하는가?\n",
    "\n",
    "혹시 이중에 어떤것도 해당되지 않는다면 보통 안좋은 결과를 가지고 끝났던것 같다."
   ]
  },
  {
   "cell_type": "markdown",
   "metadata": {},
   "source": [
    "# 좋은 피드백에 잘 대처하는 방법\n",
    "\n",
    "최근에 있었던 일은 논문을 제출하는 과정에서, 1차 탈고 이후에 리뷰를 받은 패드백들이다. 우선 피드백을 주신분은 놀랍게도 위에 4가지에 다 해당되시는 분이였는데, 1) 나와 함께 책임을 지는 공저자 교수님이셨고, 2) 나에게 시간과 관심을 가져주시고 애정으로 피드백을 남겨주셨고, 3) 나의 1저자 논문을 쓰고 있었고 4) 우리는 모두 accept이라는 목표를 가족 있었다. \n",
    "\n",
    "따라서 피드백의 퀄리티는 너무나도 높았고, 하나하나 모두 놓치고 싶지 않을 정도로 좋은 피드백이였다. 하지만 당시 나에게는 힘들었던 부분은 3가지 요소가 동시에 나에게 전달되었다는 점인데\n",
    "\n",
    "1. 나의 잘못에 의한 사실에 기반한 피드백\n",
    "2. 상호간의 의견 상충\n",
    "3. 논문의 내용에 오해로 발생한 피드백\n",
    "\n",
    "이 3가지 부분이 동시에 등장한다는 것은 매우 난감한 일이다. 왜냐하면 답장이나 반응을 즉각적으로 해야하는 경우 순간적인 감정으로 인해서 상호간의 협력이 망가질수도 있으니까... 위에 문장에서 유추해볼수 있는것은 나의 경우에는 처음 피드백을 받을때 우선 기분이 좋진 않았다는 것이다. 열심히 쓴 글에 대해서 칭찬받고 싶어하는 마음은 어쩔수 없는 것이니까. 처음부터 나의 잘못을 직시하는 경험은 사실 쉽게 익숙해 지지 않는다. \n",
    "\n",
    "\n",
    "```얼굴이 빨개진 채로 처음으로 내가 한 반응은 감사함의 표시였다.```\n",
    "\n",
    "그리고 이것이 나는 아직도 내가 너무나도 잘 대처한 부분이라고 생각한다. 위의 1,2,3번중에 나에게 가장 도움이 되는 부분은 1번이고, 그 부분을 누군가가 말해준다는 사실에 대해서 감사해야한다. 특히 나와 상대방이 같은 목표를 공유하고 있는 경우에는 특히, 2번과 3번은 그 이후에 말해도 늦지 않는다. 처음으로 드는 생각이 2,3번에 대한 반박이라면 나는 강하게 그것을 조금 더 천천히 생각할 필요가 있다고 말하고 싶다. 왜나하면 우선 내 의견이 항상 옳을수 없으며, 우선 그 사람이 피드백이라는 Task에 대한 보상을 주는것이 전체의 목표에 도움이 되기 떄문이다. \n",
    "\n",
    "그 다음 의견이 상충되는 부분을 글로 정리하는것이 중요하다. 말에는 사실보다 더 많은 감정이 담긴다. 이 감정이라는 정보를 나는 쉽게 들키는 편인데, 목소리가 떨리거나 음고가 높아지곤 한다. 이런것을 글로 적어보면 차분하게 표현과 감정이 정리되고 좀더 프로페셔널하게 답변을 할수 있었다.\n",
    "\n",
    "그리고 마지막으로는 상대방의 오해에 대한 내용을 설명하는 것이다.... To be continue\n",
    "\n"
   ]
  },
  {
   "cell_type": "code",
   "execution_count": 3,
   "metadata": {},
   "outputs": [
    {
     "name": "stdout",
     "output_type": "stream",
     "text": [
      "hello world\n"
     ]
    }
   ],
   "source": [
    "print(\"hello world\")"
   ]
  },
  {
   "cell_type": "markdown",
   "metadata": {},
   "source": [
    "There is a lot more that you can do with outputs (such as including interactive outputs)\n",
    "with your book. For more information about this, see [the Jupyter Book documentation](https://jupyterbook.org)"
   ]
  },
  {
   "cell_type": "markdown",
   "metadata": {},
   "source": []
  }
 ],
 "metadata": {
  "kernelspec": {
   "display_name": "Python 3",
   "language": "python",
   "name": "python3"
  },
  "language_info": {
   "codemirror_mode": {
    "name": "ipython",
    "version": 3
   },
   "file_extension": ".py",
   "mimetype": "text/x-python",
   "name": "python",
   "nbconvert_exporter": "python",
   "pygments_lexer": "ipython3",
   "version": "3.9.1"
  },
  "widgets": {
   "application/vnd.jupyter.widget-state+json": {
    "state": {},
    "version_major": 2,
    "version_minor": 0
   }
  }
 },
 "nbformat": 4,
 "nbformat_minor": 4
}
